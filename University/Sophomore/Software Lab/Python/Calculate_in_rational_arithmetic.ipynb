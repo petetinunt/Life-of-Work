{
 "cells": [
  {
   "cell_type": "markdown",
   "id": "2cc61599",
   "metadata": {},
   "source": [
    "# Exercise"
   ]
  },
  {
   "cell_type": "markdown",
   "id": "750093a2",
   "metadata": {},
   "source": [
    "####  1. Calcuate $ \\frac{\\pi}{\\sqrt{2}}$ with 10 decimals"
   ]
  },
  {
   "cell_type": "code",
   "execution_count": 59,
   "id": "30cf1a43",
   "metadata": {},
   "outputs": [
    {
     "name": "stdout",
     "output_type": "stream",
     "text": [
      "Requirement already satisfied: sympy in /opt/conda/lib/python3.9/site-packages (1.11.1)\r\n",
      "Requirement already satisfied: mpmath>=0.19 in /opt/conda/lib/python3.9/site-packages (from sympy) (1.2.1)\r\n"
     ]
    }
   ],
   "source": [
    "!pip install sympy"
   ]
  },
  {
   "cell_type": "code",
   "execution_count": 67,
   "id": "c01146ed",
   "metadata": {},
   "outputs": [
    {
     "name": "stdout",
     "output_type": "stream",
     "text": [
      "2.221441469\n"
     ]
    }
   ],
   "source": [
    "# Enter your code here \n",
    "from sympy import sqrt, evalf\n",
    "mypi = pi.evalf(10)\n",
    "sqrt = sqrt(2).evalf(10)\n",
    "calcuate = mypi/sqrt\n",
    "print(calcuate)"
   ]
  },
  {
   "cell_type": "markdown",
   "id": "3499b518",
   "metadata": {},
   "source": [
    "#### 2. Calculate $\\frac{1}{a+b}$ if $a = \\frac{\\sqrt{2}}{2}$  and $ b = 2\\frac{\\sqrt{2}}{2}$ in rational arithmetic. finally show numberically value of the expression."
   ]
  },
  {
   "cell_type": "code",
   "execution_count": 81,
   "id": "b3af47c8",
   "metadata": {},
   "outputs": [
    {
     "name": "stdout",
     "output_type": "stream",
     "text": [
      "4096/8689\n"
     ]
    },
    {
     "data": {
      "text/latex": [
       "$\\displaystyle 0.4714$"
      ],
      "text/plain": [
       "0.4714"
      ]
     },
     "execution_count": 81,
     "metadata": {},
     "output_type": "execute_result"
    }
   ],
   "source": [
    "# Enter your code here\n",
    "from sympy import sqrt, evalf\n",
    "from sympy import Rational\n",
    "a = (sqrt(2)/2).evalf(4)\n",
    "b = (2*(sqrt(2)/2)).evalf(4)\n",
    "calculate2 = a+b\n",
    "calculate3 = Rational(1,calculate2)\n",
    "print(f'{calculate3}')\n",
    "calculate3.evalf(4)\n"
   ]
  },
  {
   "cell_type": "markdown",
   "id": "cfe0f1fd",
   "metadata": {},
   "source": [
    "#### 3. Expand \n",
    "$$y= sin(2a + b)$$ in term of \n",
    "$sin()$ and $cos()$. Apply pretty print to your answers."
   ]
  },
  {
   "cell_type": "code",
   "execution_count": 90,
   "id": "508af11d",
   "metadata": {},
   "outputs": [
    {
     "data": {
      "text/latex": [
       "$\\displaystyle 2 \\sin{\\left(a \\right)} \\cos{\\left(a \\right)} \\cos{\\left(b \\right)} + 2 \\sin{\\left(b \\right)} \\cos^{2}{\\left(a \\right)} - \\sin{\\left(b \\right)}$"
      ],
      "text/plain": [
       "2*sin(a)*cos(a)*cos(b) + 2*sin(b)*cos(a)**2 - sin(b)"
      ]
     },
     "execution_count": 90,
     "metadata": {},
     "output_type": "execute_result"
    }
   ],
   "source": [
    "# # Enter your code here\n",
    "from sympy import symbols, expand , sin\n",
    "a, b, sin = symbols('a, b, sin')\n",
    "y = sym.sin(2*a + b)\n",
    "y.expand(trig=True)\n",
    "\n",
    "\n"
   ]
  },
  {
   "cell_type": "markdown",
   "id": "4261af7c",
   "metadata": {},
   "source": [
    "4. #### Simplify the trigonometric expression $$ 2⋅sin(a)⋅cos(a)⋅cos(b) + 2⋅sin(b)⋅cos^2 (a) - sin(b)$$\n"
   ]
  },
  {
   "cell_type": "code",
   "execution_count": 110,
   "id": "8ac6aff1",
   "metadata": {},
   "outputs": [
    {
     "name": "stdout",
     "output_type": "stream",
     "text": [
      "sin(2*a + b)\n"
     ]
    }
   ],
   "source": [
    "# # Enter your code here\n",
    "import sympy as sym\n",
    "a , b = sym.symbols('a,b')\n",
    "y = 2*sym.sin(a)*sym.cos(a)*sym.cos(b)+2*sym.sin(b)*sym.cos(a)**2-sym.sin(b)\n",
    "print(sym.trigsimp(y, deep=True))\n"
   ]
  },
  {
   "cell_type": "markdown",
   "id": "3bef09bb",
   "metadata": {},
   "source": [
    "5. In electrical parallel Speaker circuit is drive by output from Amplifier, on average 24 V, total resitance value can be computed as $$ \\frac{1}{R_t} = \n",
    "      \\frac{1}{R_1} + \\frac{1}{R_2} + \\cdot \\cdot \\cdot + \\frac{1}{R_N}$$\n",
    "      Assumed, there are three resistor in a circuit each is 8,16,32 Ohms respectively, show how to use sympy calculate total $CURRENT$  flow in the circuit as exact number, 3 decimals. \n",
    "      \n",
    "      Given Ohm's current Law any current flow into point is equal to current flow out of point.\n",
    "    And $$ Volt\\_accoss\\_total\\_resitor = Current * Resistance $$"
   ]
  },
  {
   "cell_type": "code",
   "execution_count": 113,
   "id": "57718492",
   "metadata": {},
   "outputs": [
    {
     "name": "stdout",
     "output_type": "stream",
     "text": [
      "Total Current is 5.25 Amperes\n"
     ]
    }
   ],
   "source": [
    "# # Enter your code here\n",
    "from sympy import together\n",
    "r1, r2, r3 = symbols('r1, r2, r3')\n",
    "r1 = 8\n",
    "r2 = 16\n",
    "r3 = 32\n",
    "resistance2 = 1/((1/r1)+(1/r2)+(1/r3))\n",
    "total = 24/resistance2\n",
    "print('Total Current is',total,'Amperes')"
   ]
  },
  {
   "cell_type": "markdown",
   "id": "a47c135c",
   "metadata": {},
   "source": [
    "6. Consider the flowing two equations\n",
    "$$\n",
    "      y = 2x^2 - 40\\\\\n",
    "      y = -4x - 23\n",
    "$$ \n",
    "\n",
    "Find solutions in from of (x,y) point of intersection betweem to graphs.\n",
    "Show pair of (x,y) and graphs that verifies your solutions."
   ]
  },
  {
   "cell_type": "code",
   "execution_count": 96,
   "id": "817e22c7",
   "metadata": {},
   "outputs": [
    {
     "name": "stdout",
     "output_type": "stream",
     "text": [
      "[(-1 + sqrt(38)/2, -19 - 2*sqrt(38)), (-sqrt(38)/2 - 1, -19 + 2*sqrt(38))]\n",
      "2.08 -31.3\n",
      "-4.08 -6.67\n"
     ]
    }
   ],
   "source": [
    "# Enter your solution here\n",
    "from sympy import symbols, solve, simplify\n",
    "x, y, equ_1, equ_2 = symbols('x,y, equ_1, equ_2')\n",
    "\n",
    "\n",
    "equ_1 = 2*x**2-40-y\n",
    "equ_2 = -4*x-23-y\n",
    "\n",
    "solutions = solve((equ_1, equ_2), (x,y))\n",
    "print(solutions)\n",
    "print(solutions[0][0].evalf(3), solutions[0][1].evalf(3))\n",
    "print(solutions[1][0].evalf(3), solutions[1][1].evalf(3))\n",
    "\n",
    "\n"
   ]
  },
  {
   "cell_type": "code",
   "execution_count": 115,
   "id": "4419498e",
   "metadata": {},
   "outputs": [
    {
     "data": {
      "image/png": "[encoded data removed]",
      "text/plain": [
       "<Figure size 432x288 with 1 Axes>"
      ]
     },
     "metadata": {
      "needs_background": "light"
     },
     "output_type": "display_data"
    },
    {
     "data": {
      "text/plain": [
       "<sympy.plotting.plot.Plot at 0x7f828e43ca00>"
      ]
     },
     "execution_count": 115,
     "metadata": {},
     "output_type": "execute_result"
    }
   ],
   "source": [
    "## Enter your code here%matplotlib inline\n",
    "from sympy import symbols, solve\n",
    "from sympy.plotting import plot\n",
    "\n",
    "import matplotlib.pyplot as plt\n",
    "plt.rcParams[\"xtick.labelsize\"] = 16\n",
    "plt.rcParams[\"xtick.color\"] = \"red\"\n",
    "\n",
    "x, y = symbols('x,y')\n",
    "\n",
    "equ_1 = 2*x**2-40-y\n",
    "equ_2 = -4*x-23-y\n",
    "\n",
    "equ_1 = equ_1+y\n",
    "equ_2 = equ_2 +y\n",
    "\n",
    "plot(equ_1,equ_2)\n",
    "\n"
   ]
  },
  {
   "cell_type": "code",
   "execution_count": null,
   "id": "bb58be80",
   "metadata": {},
   "outputs": [],
   "source": []
  },
  {
   "cell_type": "markdown",
   "id": "30e4baf5",
   "metadata": {},
   "source": [
    "References:\n",
    "This node based on SymPy tutorial and lecture notes\n",
    "- https://scipy-lectures.org/packages/sympy.html"
   ]
  }
 ],
 "metadata": {
  "kernelspec": {
   "display_name": "Python 3 (ipykernel)",
   "language": "python",
   "name": "python3"
  },
  "language_info": {
   "codemirror_mode": {
    "name": "ipython",
    "version": 3
   },
   "file_extension": ".py",
   "mimetype": "text/x-python",
   "name": "python",
   "nbconvert_exporter": "python",
   "pygments_lexer": "ipython3",
   "version": "3.9.7"
  }
 },
 "nbformat": 4,
 "nbformat_minor": 5
}
