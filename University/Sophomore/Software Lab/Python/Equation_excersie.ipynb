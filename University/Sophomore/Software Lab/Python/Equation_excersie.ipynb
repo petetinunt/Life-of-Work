{
 "cells": [
  {
   "cell_type": "markdown",
   "id": "4be4d78b",
   "metadata": {},
   "source": [
    "# Week 2 Exercises"
   ]
  },
  {
   "cell_type": "raw",
   "id": "a02c84f1",
   "metadata": {},
   "source": [
    "# 1. Ask you user to input computer age if the input is not match with random one generated from initial state of your programe, (17 25), let user reenter until it is match."
   ]
  },
  {
   "cell_type": "code",
   "execution_count": 21,
   "id": "86d8039f",
   "metadata": {},
   "outputs": [
    {
     "name": "stdout",
     "output_type": "stream",
     "text": [
      "Enter your age18\n",
      "Enter your age19\n",
      "Enter your age20\n",
      "Enter your age21\n"
     ]
    }
   ],
   "source": [
    "import random\n",
    "random = random.randrange(17, 25)\n",
    "Guess= -1\n",
    "age = input(\"Enter your age\")\n",
    "while Guess!= random:\n",
    "    Guess = int(age)\n",
    "    if Guess != random:\n",
    "        age = input(\"Enter your age\")\n",
    "    elif Guess == random:\n",
    "        break"
   ]
  },
  {
   "cell_type": "markdown",
   "id": "580840ce",
   "metadata": {},
   "source": [
    "2. Given list of degree x = {15,30,45,60,90,120,180, 225, 270, 360}, create table $$ sin(\\frac{x}{2}) = \\sqrt{\\frac{(1- cos(x))}{2}} $$   \n",
    "Show table that left equats to the right side.\n",
    "Note: sin() or cos() accepts input radian unit."
   ]
  },
  {
   "cell_type": "code",
   "execution_count": 33,
   "id": "d484fbef",
   "metadata": {},
   "outputs": [
    {
     "name": "stdout",
     "output_type": "stream",
     "text": [
      "0.13052619222005157  =  0.13052619222005155\n",
      "0.25881904510252074  =  0.2588190451025207\n",
      "0.3826834323650898  =  0.3826834323650897\n",
      "0.49999999999999994  =  0.49999999999999994\n",
      "0.7071067811865475  =  0.7071067811865475\n",
      "0.8660254037844386  =  0.8660254037844386\n",
      "1.0  =  1.0\n",
      "0.9238795325112867  =  0.9238795325112868\n",
      "0.7071067811865476  =  0.7071067811865476\n",
      "1.2246467991473532e-16  =  0.0\n"
     ]
    }
   ],
   "source": [
    "import math\n",
    "list = [15,30,45,60,90,120,180,225,270,360]\n",
    "radian = []\n",
    "for i in list:\n",
    "    radian.append(i*(math.pi/180))\n",
    "for i in radian:\n",
    "    sinx = abs(math.sin(i/2))\n",
    "    cosx = math.sqrt((1-math.cos(i))/2)\n",
    "    print(sinx , \" = \", cosx)\n",
    "\n",
    " "
   ]
  },
  {
   "cell_type": "markdown",
   "id": "bab1e17f",
   "metadata": {},
   "source": [
    "3. Given n ={1, 10, 100, 1000, 10000, 1000000}: $$y(n)= \\left(1+\\frac{1}{n}\\right)^n$$ print list of n and y(n).\n",
    "What is limit value of the following equation:- $$\\lim_{n \\to +\\infty} \\left(1+\\frac{1}{n}\\right)^n$$"
   ]
  },
  {
   "cell_type": "code",
   "execution_count": 19,
   "id": "97b62bb8",
   "metadata": {},
   "outputs": [
    {
     "name": "stdout",
     "output_type": "stream",
     "text": [
      "[2.0, 2.5937424601000023, 2.7048138294215285, 2.7169239322355936, 2.7181459268249255, 2.7182804690957534]\n"
     ]
    }
   ],
   "source": [
    "n = [1, 10, 100, 1000, 10000, 1000000]\n",
    "y = []\n",
    "for i in n : \n",
    "    y.append((1+(1/i))**i)\n",
    "print(y)"
   ]
  },
  {
   "cell_type": "code",
   "execution_count": null,
   "id": "709ed007",
   "metadata": {},
   "outputs": [],
   "source": []
  }
 ],
 "metadata": {
  "kernelspec": {
   "display_name": "Python 3 (ipykernel)",
   "language": "python",
   "name": "python3"
  },
  "language_info": {
   "codemirror_mode": {
    "name": "ipython",
    "version": 3
   },
   "file_extension": ".py",
   "mimetype": "text/x-python",
   "name": "python",
   "nbconvert_exporter": "python",
   "pygments_lexer": "ipython3",
   "version": "3.9.7"
  }
 },
 "nbformat": 4,
 "nbformat_minor": 5
}
