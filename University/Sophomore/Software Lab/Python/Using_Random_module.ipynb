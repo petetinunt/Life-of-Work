{
 "cells": [
  {
   "cell_type": "markdown",
   "metadata": {},
   "source": [
    "### Exercises\n",
    "\n",
    "1. Using the $\\texttt{random}$  module, create a NumPy array, name A, with 2 rows and 3 columns that has entries that are random positive integers less than 14.  Print your array. Change the entry in the __second row, third column to 999__ and __double the value in the first row, second column__. Print the resulting array to check that your code has made the correct modifications."
   ]
  },
  {
   "cell_type": "code",
   "execution_count": 4,
   "metadata": {
    "scrolled": true
   },
   "outputs": [
    {
     "name": "stdout",
     "output_type": "stream",
     "text": [
      "Collecting numpy\n",
      "  Using cached numpy-1.23.2-cp39-cp39-manylinux_2_17_x86_64.manylinux2014_x86_64.whl (17.1 MB)\n",
      "Installing collected packages: numpy\n",
      "Successfully installed numpy-1.23.2\n",
      "Collecting matplotlib\n",
      "  Using cached matplotlib-3.5.3-cp39-cp39-manylinux_2_5_x86_64.manylinux1_x86_64.whl (11.2 MB)\n",
      "Collecting fonttools>=4.22.0\n",
      "  Using cached fonttools-4.37.1-py3-none-any.whl (957 kB)\n",
      "Collecting cycler>=0.10\n",
      "  Using cached cycler-0.11.0-py3-none-any.whl (6.4 kB)\n",
      "Requirement already satisfied: packaging>=20.0 in /opt/conda/lib/python3.9/site-packages (from matplotlib) (21.2)\n",
      "Collecting pillow>=6.2.0\n",
      "  Using cached Pillow-9.2.0-cp39-cp39-manylinux_2_28_x86_64.whl (3.2 MB)\n",
      "Collecting kiwisolver>=1.0.1\n",
      "  Using cached kiwisolver-1.4.4-cp39-cp39-manylinux_2_12_x86_64.manylinux2010_x86_64.whl (1.6 MB)\n",
      "Requirement already satisfied: python-dateutil>=2.7 in /opt/conda/lib/python3.9/site-packages (from matplotlib) (2.8.2)\n",
      "Requirement already satisfied: numpy>=1.17 in /opt/conda/lib/python3.9/site-packages (from matplotlib) (1.23.2)\n",
      "Requirement already satisfied: pyparsing>=2.2.1 in /opt/conda/lib/python3.9/site-packages (from matplotlib) (2.4.7)\n",
      "Requirement already satisfied: six>=1.5 in /opt/conda/lib/python3.9/site-packages (from python-dateutil>=2.7->matplotlib) (1.16.0)\n",
      "Installing collected packages: pillow, kiwisolver, fonttools, cycler, matplotlib\n",
      "Successfully installed cycler-0.11.0 fonttools-4.37.1 kiwisolver-1.4.4 matplotlib-3.5.3 pillow-9.2.0\n"
     ]
    }
   ],
   "source": [
    "!pip install numpy\n",
    "!pip install matplotlib "
   ]
  },
  {
   "cell_type": "code",
   "execution_count": 7,
   "metadata": {},
   "outputs": [
    {
     "name": "stdout",
     "output_type": "stream",
     "text": [
      "original\n",
      "[[ 3 12  3]\n",
      " [ 5 10  0]]\n",
      "add 999\n",
      "[[  3  12   3]\n",
      " [  5  10 999]]\n",
      "multiply by 2\n",
      "[[  6  24   6]\n",
      " [  5  10 999]]\n"
     ]
    }
   ],
   "source": [
    "import numpy as np  \n",
    "A = np.random.randint(14, size=(2,3))\n",
    "print(\"original\")\n",
    "print(A)\n",
    "(A[1,2]) = 999\n",
    "print(\"add 999\")\n",
    "print(A)\n",
    "(A[0]) = (A[0])*2\n",
    "print(\"multiply by 2\")\n",
    "print(AZ)\n",
    "\n"
   ]
  },
  {
   "cell_type": "markdown",
   "metadata": {},
   "source": [
    "- Using the $\\texttt{random}$  module, create a NumPy array with 3 rows and 3 columns, names as A,that has entries that are random positive integers less than 50.  Print your array. Now divides each value in the matrix by 5 and then add 10 to all the enteries in the second row. After that, divide each diagonal entry by 15 and print the resulting array to check that your code has made the correct modifications."
   ]
  },
  {
   "cell_type": "code",
   "execution_count": 13,
   "metadata": {
    "scrolled": true
   },
   "outputs": [
    {
     "name": "stdout",
     "output_type": "stream",
     "text": [
      "original\n",
      "[[10 21  3]\n",
      " [ 0 27 26]\n",
      " [25 19  7]]\n",
      "add ten\n",
      "[[ 2.   4.2  0.6]\n",
      " [10.  15.4 15.2]\n",
      " [ 5.   3.8  1.4]]\n",
      "divide each digonal entry\n",
      "[[ 0.13333333  4.2         0.6       ]\n",
      " [10.          1.02666667 15.2       ]\n",
      " [ 5.          3.8         0.09333333]]\n"
     ]
    }
   ],
   "source": [
    "import numpy as np\n",
    "A = np.random.randint(50, size=(3,3))\n",
    "print(\"original\")\n",
    "print(A)\n",
    "A = A/5\n",
    "(A[1]) = (A[1])+10\n",
    "print(\"add ten\")\n",
    "print(A)\n",
    "for i in range(3):\n",
    "    A[i,i] = (A[i,i])/15\n",
    "print(\"divide each digonal entry\")\n",
    "print(A) \n",
    "\n"
   ]
  },
  {
   "cell_type": "markdown",
   "metadata": {},
   "source": [
    "- Using the $\\texttt{random}$  module, create a NumPy array with 2 rows and 2 columns that has entries that are random integers greater than 5 and less than 15.    Write code that sets all even entries of the matrix to itemself square.  Print the array and check the results.  Run the code several times to check that it works for *different* random arrays. "
   ]
  },
  {
   "cell_type": "code",
   "execution_count": 8,
   "metadata": {},
   "outputs": [
    {
     "name": "stdout",
     "output_type": "stream",
     "text": [
      "original\n",
      "[[13  6]\n",
      " [ 8  6]]\n",
      "after  exponent\n",
      "[[169  36]\n",
      " [  8   6]]\n"
     ]
    }
   ],
   "source": [
    "import numpy as np\n",
    "array = np.random.randint(low=6 , high=14 ,size=(2,2))\n",
    "print(\"original\")\n",
    "print(array)\n",
    "(array[0,0]) = (array[0,0])**2\n",
    "(array[0,1]) = (array[0,1])**2\n",
    "print(\"after  exponent\")\n",
    "print(array)\n"
   ]
  },
  {
   "cell_type": "markdown",
   "metadata": {},
   "source": [
    "- Create a NumPy array with 2 rows and 4 columns and assign it the name A.  Fill it with some values of your choice.  Create a new array $B$ that has the columns of $A$ as it's rows.  Print $A$ and $B$.  Below is an example of one such pair of arrays.\n",
    "\n",
    "$$\n",
    "\\begin{equation}\n",
    "A = \\left[ \\begin{array}{cc} 1 & 3 & 1 \\\\ 0 & 2 & 2 \\\\ 5 & 0 & 3  \\end{array}\\right]\\hspace{1cm}\n",
    "B = \\left[ \\begin{array}{cccc} 1 & 0 & 5  \\\\ 3 & 2 & 0 \\\\ 1 & 2 & 3 \\end{array}\\right]\\hspace{1cm}\n",
    "\\end{equation}\n",
    "$$"
   ]
  },
  {
   "cell_type": "code",
   "execution_count": 11,
   "metadata": {},
   "outputs": [
    {
     "name": "stdout",
     "output_type": "stream",
     "text": [
      "original\n",
      "[[3 1 3 3]\n",
      " [2 4 2 5]]\n",
      "transpose\n",
      "[[3 2]\n",
      " [1 4]\n",
      " [3 2]\n",
      " [3 5]]\n"
     ]
    }
   ],
   "source": [
    "A = np.random.choice([1,2,3,4,5] , size=(2,4))\n",
    "print(\"original\")\n",
    "print(array)\n",
    "A = A.transpose()\n",
    "print(\"transpose\")\n",
    "print (A)\n",
    "\n",
    "\n"
   ]
  },
  {
   "cell_type": "markdown",
   "metadata": {},
   "source": [
    "- Using matplotlib to plot the following points using the red *cross* symbol: (1, 3), (2,8), (3, 20), (4, 54).  Add a grid that consists of dotted lines as in Example 2. Set the limits of $x$-axis to 0 and -6.  Set the limits of the $y$-axis to 0 and 25.  The numbers and gridlines should appear at intervals of 2 units along the $x$-axis and at intervals of 5 units along the $y$-axis.  Label the $x$-axis as \"*Time*\" and the $y$-axis as \"*Distance*\"."
   ]
  },
  {
   "cell_type": "code",
   "execution_count": 16,
   "metadata": {},
   "outputs": [
    {
     "data": {
      "image/png": "[encoded data removed]",
      "text/plain": [
       "<Figure size 432x288 with 1 Axes>"
      ]
     },
     "metadata": {
      "needs_background": "light"
     },
     "output_type": "display_data"
    }
   ],
   "source": [
    "import matplotlib.pyplot as plt\n",
    "x = [1,2,3,4]\n",
    "y = [3,8,20,54]\n",
    "fig, ax = plt.subplots()\n",
    "ax.plot(x,y,'rx',ls ='dashed');\n",
    "\n",
    "ax.set_xlim(0,5);\n",
    "ax.set_ylim(0,75);\n",
    "\n",
    "ax.set_xticks([0, 1.25, 2.5, 3.75, 5]);\n",
    "ax.set_yticks([0, 15, 30, 45, 60, 75]);\n",
    "\n",
    "ax.grid(True, ls ='dotted');\n",
    "\n",
    "ax.set_xlabel('Time');\n",
    "ax.set_ylabel('Distance');\n",
    "\n",
    "\n"
   ]
  },
  {
   "cell_type": "markdown",
   "metadata": {},
   "source": [
    "- Use matplotlib to plot the curve $y= \\exp{x}$ where $x$ lies in the interval $[-7,7]$.  Follow Example 2 and use $\\texttt{linspace}$ to generate an array of coordinates of points on the curve. The curve should be dashed and shown in green color. The numbers and gridlines should appear at intervals of 2 unit along the $x$-axis. Draw the lines $x=0$, and $y=0$ with black colour and 1 unit width. Add a grid that consists of dashed lines."
   ]
  },
  {
   "cell_type": "code",
   "execution_count": 21,
   "metadata": {},
   "outputs": [
    {
     "data": {
      "image/png": "[encoded data removed]",
      "text/plain": [
       "<Figure size 432x288 with 1 Axes>"
      ]
     },
     "metadata": {
      "needs_background": "light"
     },
     "output_type": "display_data"
    }
   ],
   "source": [
    "\n",
    "import matplotlib.pyplot as plt\n",
    "\n",
    "x = np.linspace(-7 , 7)\n",
    "y = np.exp(x)\n",
    "\n",
    "fig, ax = plt.subplots() \n",
    "ax.plot(x,y,'g',ls = \"dashed\")\n",
    "ax.set_xlim(-2,10)\n",
    "ax.set_ylim(-2,1500)\n",
    "\n",
    "plt.grid(True)\n",
    "ax.axhline(color='k',linewidth = 1);"
   ]
  },
  {
   "cell_type": "markdown",
   "metadata": {},
   "source": [
    "### References\n",
    "\n",
    "- Harris, C. R. et. al. [*Array Programming with NumPy*](https://www.nature.com/articles/s41586-020-2649-2)., Nature 585, 357-362, 2020.\n",
    "- [A Crash Course in Python for Scientists](https://nbviewer.jupyter.org/gist/rpmuller/5920182)\n"
   ]
  }
 ],
 "metadata": {
  "kernelspec": {
   "display_name": "Python 3 (ipykernel)",
   "language": "python",
   "name": "python3"
  },
  "language_info": {
   "codemirror_mode": {
    "name": "ipython",
    "version": 3
   },
   "file_extension": ".py",
   "mimetype": "text/x-python",
   "name": "python",
   "nbconvert_exporter": "python",
   "pygments_lexer": "ipython3",
   "version": "3.9.7"
  }
 },
 "nbformat": 4,
 "nbformat_minor": 4
}
